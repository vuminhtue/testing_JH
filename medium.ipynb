{
 "cells": [
  {
   "cell_type": "code",
   "execution_count": 16,
   "metadata": {},
   "outputs": [
    {
     "name": "stdout",
     "output_type": "stream",
     "text": [
      "0 squared results in a/an zero number\n",
      "1 squared results in a/an odd number\n",
      "2 squared results in a/an even number\n",
      "3 squared results in a/an odd number\n",
      "4 squared results in a/an even number\n",
      "5 squared results in a/an odd number\n",
      "6 squared results in a/an even number\n",
      "7 squared results in a/an odd number\n",
      "8 squared results in a/an even number\n",
      "9 squared results in a/an odd number\n",
      "That took 20.021142721176147 seconds\n",
      "CPU times: user 6.52 ms, sys: 1.02 ms, total: 7.54 ms\n",
      "Wall time: 20 s\n"
     ]
    }
   ],
   "source": [
    "%%time\n",
    "import time\n",
    "\n",
    "def basic_func(x):\n",
    "    if x == 0:\n",
    "        return 'zero'\n",
    "    elif x%2 == 0:\n",
    "        return 'even'\n",
    "    else:\n",
    "        return 'odd'\n",
    "    \n",
    "starttime = time.time()\n",
    "for i in range(0,10):\n",
    "    y = i*i\n",
    "    time.sleep(2)\n",
    "    print('{} squared results in a/an {} number'.format(i, basic_func(y)))\n",
    "    \n",
    "print('That took {} seconds'.format(time.time() - starttime))\n"
   ]
  },
  {
   "cell_type": "code",
   "execution_count": 17,
   "metadata": {},
   "outputs": [
    {
     "name": "stdout",
     "output_type": "stream",
     "text": [
      "0 squared results in a/an zero number\n",
      "1 squared results in a/an odd number\n",
      "2 squared results in a/an even number\n",
      "3 squared results in a/an odd number\n",
      "8 squared results in a/an even number\n",
      "5 squared results in a/an odd number\n",
      "9 squared results in a/an odd number\n",
      "6 squared results in a/an even number\n",
      "4 squared results in a/an even number\n",
      "7 squared results in a/an odd number\n",
      "That took 2.032191276550293 seconds\n",
      "CPU times: user 6 ms, sys: 21.7 ms, total: 27.7 ms\n",
      "Wall time: 2.03 s\n"
     ]
    }
   ],
   "source": [
    "%%time\n",
    "import time\n",
    "import multiprocessing \n",
    "\n",
    "def basic_func(x):\n",
    "    if x == 0:\n",
    "        return 'zero'\n",
    "    elif x%2 == 0:\n",
    "        return 'even'\n",
    "    else:\n",
    "        return 'odd'\n",
    "\n",
    "def multiprocessing_func(x):\n",
    "    y = x*x\n",
    "    time.sleep(2)\n",
    "    print('{} squared results in a/an {} number'.format(x, basic_func(y)))\n",
    "    \n",
    "if __name__ == '__main__':\n",
    "    starttime = time.time()\n",
    "    processes = []\n",
    "    for i in range(0,10):\n",
    "        p = multiprocessing.Process(target=multiprocessing_func, args=(i,))\n",
    "        processes.append(p)\n",
    "        p.start()\n",
    "        \n",
    "    for process in processes:\n",
    "        process.join()\n",
    "        \n",
    "    print('That took {} seconds'.format(time.time() - starttime))\n"
   ]
  },
  {
   "cell_type": "code",
   "execution_count": null,
   "metadata": {},
   "outputs": [],
   "source": [
    "!module list\n",
    "#save something"
   ]
  }
 ],
 "metadata": {
  "kernelspec": {
   "display_name": "clim_ind",
   "language": "python",
   "name": "python_custom"
  },
  "language_info": {
   "codemirror_mode": {
    "name": "ipython",
    "version": 3
   },
   "file_extension": ".py",
   "mimetype": "text/x-python",
   "name": "python",
   "nbconvert_exporter": "python",
   "pygments_lexer": "ipython3",
   "version": "3.6.10"
  }
 },
 "nbformat": 4,
 "nbformat_minor": 2
}
